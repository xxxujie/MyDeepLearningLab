{
 "cells": [
  {
   "cell_type": "markdown",
   "metadata": {},
   "source": [
    "Pytorch 中的数据 pipeline 设计：典型的「生产者-消费者」模式，分为四个抽象层次：\n",
    "1. **Sampler**：负责生成 index 序列；\n",
    "2. **Dataset**：负责根据 index 读取对应数据，并做预处理；\n",
    "3. **DataloaderIter**：负责协调多进程执行 Dataset；\n",
    "4. **Dataloader**：最顶层的抽象，外部消费者直接解除的就是它。"
   ]
  },
  {
   "cell_type": "code",
   "execution_count": 1,
   "metadata": {},
   "outputs": [],
   "source": [
    "import torch\n",
    "from torch import nn"
   ]
  },
  {
   "cell_type": "code",
   "execution_count": 12,
   "metadata": {},
   "outputs": [
    {
     "name": "stdout",
     "output_type": "stream",
     "text": [
      "tensor([[[ 0.4029, -1.0836, -0.6754,  ...,  0.5971,  1.9646,  1.6589],\n",
      "         [ 0.6010, -1.2298, -0.7266,  ..., -0.5502,  1.7966,  1.1280],\n",
      "         [ 0.0716, -0.0990, -0.7798,  ...,  0.6825,  1.8570,  1.4464],\n",
      "         ...,\n",
      "         [ 0.7465, -1.0182, -0.5399,  ..., -1.1060,  2.0393,  1.2114],\n",
      "         [-0.6297, -0.4134, -1.1282,  ..., -0.5795,  1.8258,  2.1304],\n",
      "         [ 0.2401, -1.0579, -0.4065,  ..., -0.5677,  1.8447,  1.2625]]],\n",
      "       grad_fn=<NativeLayerNormBackward0>)\n"
     ]
    }
   ],
   "source": [
    "embedding = nn.Embedding(num_embeddings=10, embedding_dim=128, padding_idx=0)\n",
    "transformer = nn.Transformer(d_model=128, batch_first=True)\n",
    "src = torch.LongTensor([[1, 3, 4, 5, 6, 7, 8, 2, 0, 0]])\n",
    "tgt = torch.LongTensor([[1, 3, 4, 5, 6, 7, 8, 2, 0, 0]])\n",
    "outputs = transformer(embedding(src), embedding(tgt))\n",
    "print(outputs)"
   ]
  }
 ],
 "metadata": {
  "kernelspec": {
   "display_name": "base",
   "language": "python",
   "name": "python3"
  },
  "language_info": {
   "codemirror_mode": {
    "name": "ipython",
    "version": 3
   },
   "file_extension": ".py",
   "mimetype": "text/x-python",
   "name": "python",
   "nbconvert_exporter": "python",
   "pygments_lexer": "ipython3",
   "version": "3.11.9"
  }
 },
 "nbformat": 4,
 "nbformat_minor": 2
}
